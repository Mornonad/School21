{
 "cells": [
  {
   "cell_type": "markdown",
   "metadata": {
    "toc": true
   },
   "source": [
    "<h1>Table of Contents<span class=\"tocSkip\"></span></h1>\n",
    "<div class=\"toc\"><ul class=\"toc-item\"></ul></div>"
   ]
  },
  {
   "cell_type": "code",
   "execution_count": 3,
   "metadata": {},
   "outputs": [],
   "source": [
    "import pandas as pd\n",
    "import numpy as np\n",
    "import joblib\n",
    "from joblib import dump, load\n",
    "from sklearn.ensemble import RandomForestClassifier\n",
    "import warnings\n",
    "warnings.simplefilter(action='ignore')"
   ]
  },
  {
   "cell_type": "code",
   "execution_count": 12,
   "metadata": {},
   "outputs": [],
   "source": [
    "class Forecast:\n",
    "    \"\"\"\n",
    "    Предсказание рейтинга блюда или его класса\n",
    "    \"\"\"\n",
    "    def __init__(self, list_of_ingredients):\n",
    "        self.list_of_ingredients = list_of_ingredients\n",
    "  \n",
    "    def preprocess(self):\n",
    "        \"\"\"\n",
    "        Этот метод преобразует список ингредиентов в структуры данных, \n",
    "        которые используются в алгоритмах машинного обучения, чтобы сделать предсказание.\n",
    "        \"\"\"\n",
    "        df = pd.read_csv('../DS15/data/result.csv')\n",
    "        df = df.drop(columns=['title','url', 'rating', 'rating_group'])\n",
    "        vector = pd.DataFrame(np.zeros(df.shape), columns=df.columns)\n",
    "        if set(self.list_of_ingredients).issubset(df.columns):\n",
    "            vector[self.list_of_ingredients] = 1\n",
    "        \n",
    "        return vector\n",
    "        \n",
    "    def predict_rating_category(self):\n",
    "        \"\"\"\n",
    "        Этот метод возращает рейтинговую категорию для списка ингредиентов, используя классификационную модель, \n",
    "        которая была обучена заранее. Помимо самого рейтинга, метод возвращает также и текст, \n",
    "        который дает интерпретацию этой категории и дает рекомендации, как в примере выше.\n",
    "        \"\"\"\n",
    "        data = self.preprocess()\n",
    "        model = joblib.load('../DS15/data/best_model')\n",
    "        rating_cat = model.predict(data)       \n",
    "        print('I. НАШ ПРОГНОЗ:\\n')\n",
    "        \n",
    "        if rating_cat[0] == 'bad':\n",
    "            return 'Невкусное. Хоть конкретно вам может быть и понравится блюдо из этих ингредиентов, но, на наш взгляд, это плохая идея – готовить блюдо из них. Хотели предупредить.'\n",
    "        elif rating_cat[0] == 'so-so':\n",
    "            return 'Нормальное. Но если Вы гурман, стоит поискать что-то другое.'\n",
    "        elif rating_cat[0] == 'great':\n",
    "            return 'Вкусное. На наш скромный взгляд из этих ингредиентов получится изысканное блюдо.'\n",
    "        else:\n",
    "            return 'По данным ингредиентам ничего не нашлось. Попробуйте ввести что-то другое.'\n",
    "\n"
   ]
  },
  {
   "cell_type": "code",
   "execution_count": 13,
   "metadata": {},
   "outputs": [
    {
     "name": "stdout",
     "output_type": "stream",
     "text": [
      "I. НАШ ПРОГНОЗ:\n",
      "\n"
     ]
    },
    {
     "data": {
      "text/plain": [
       "'Вкусное. На наш скромный взгляд из этих ингредиентов получится изысканное блюдо.'"
      ]
     },
     "execution_count": 13,
     "metadata": {},
     "output_type": "execute_result"
    }
   ],
   "source": [
    "Forecast(['a','b', 'c', 'garlic']).predict_rating_category()"
   ]
  },
  {
   "cell_type": "code",
   "execution_count": 18,
   "metadata": {},
   "outputs": [],
   "source": [
    "class NutritionFacts:\n",
    "    \"\"\"\n",
    "    Выдает информацию о пищевой ценности ингредиентов.\n",
    "    \"\"\"\n",
    "    def __init__(self, list_of_ingredients):\n",
    "        self.list_of_ingredients = list_of_ingredients\n",
    "        self.nutrients = pd.read_csv('../DS15/data/Nutrients.csv')\n",
    "        \n",
    "    def retrieve(self):\n",
    "        \"\"\"\n",
    "        Этот метод получает всю имеющуюся информацию о пищевой ценности из файла с заранее \n",
    "        собранной информацией по заданным ингредиентам. \n",
    "        Он возвращает ее в том виде, который вам кажется наиболее удобным и подходящим.\n",
    "        \"\"\"\n",
    "\n",
    "        facts =pd.DataFrame(columns=self.nutrients.columns)\n",
    "        \n",
    "        for i in self.list_of_ingredients:\n",
    "            nutr_el =self.nutrients.loc[self.nutrients.ingredient == i]\n",
    "            facts = pd.concat([facts, nutr_el], ignore_index=True)          \n",
    "        facts.drop(columns='Unnamed: 0',inplace=True)\n",
    "        \n",
    "        return facts\n",
    "\n",
    "    def filter(self, must_nutrients, n):\n",
    "        \"\"\"\n",
    "        Этот метод отбирает из всей информации о пищевой ценности только те нутриенты, \n",
    "        которые были заданы в must_nutrients (пример в PDF-файле ниже), \n",
    "        а также топ-n нутриентов с наибольшим значением дневной нормы потребления для заданного ингредиента. \n",
    "        Он возвращает текст, отформатированный как в примере выше.\n",
    "        \"\"\"\n",
    "        \n",
    "        facts = self.retrieve()\n",
    "        info = {}\n",
    "        print(f'II. ПИЩЕВАЯ ЦЕННОСТЬ \\n')        \n",
    "        \n",
    "        for i in self.list_of_ingredients:\n",
    "            per_ingred = facts.loc[facts['ingredient'] == i].sort_values('value',ascending=False)\n",
    "            print(i.capitalize())\n",
    "                \n",
    "            for j in range(len(must_nutrients)):\n",
    "                if j < n:\n",
    "                    if must_nutrients[j] in per_ingred['nutrientName'].tolist():\n",
    "                        nutrients = per_ingred.loc[per_ingred['nutrientName']== must_nutrients[j]]\n",
    "                        value =per_ingred.loc[per_ingred['nutrientName']== must_nutrients[j]]['value']\n",
    "                        print(f'{must_nutrients[j]} - {float(value)} % of daily value')\n",
    "                    else:\n",
    "                        print(f'Нутриент {must_nutrients[j]} для данного ингредиента не найден')\n",
    "                else:\n",
    "                    break\n",
    "\n",
    "            print('\\n')"
   ]
  },
  {
   "cell_type": "code",
   "execution_count": 19,
   "metadata": {
    "scrolled": true
   },
   "outputs": [
    {
     "name": "stdout",
     "output_type": "stream",
     "text": [
      "II. ПИЩЕВАЯ ЦЕННОСТЬ \n",
      "\n",
      "Almond\n",
      "Protein - 14.0 % of daily value\n",
      "Total lipid (fat) - 31.0 % of daily value\n",
      "Calcium, Ca - 27.0 % of daily value\n",
      "Iron, Fe - 19.0 % of daily value\n",
      "Magnesium, Mg - 66.0 % of daily value\n",
      "\n",
      "\n",
      "Zucchini\n",
      "Protein - 1.0 % of daily value\n",
      "Total lipid (fat) - 0.0 % of daily value\n",
      "Calcium, Ca - 2.0 % of daily value\n",
      "Iron, Fe - 2.0 % of daily value\n",
      "Нутриент Magnesium, Mg для данного ингредиента не найден\n",
      "\n",
      "\n"
     ]
    }
   ],
   "source": [
    "NutritionFacts(['almond', 'zucchini']).filter(['Protein', 'Total lipid (fat)', 'Calcium, Ca', 'Iron, Fe',\n",
    "       'Magnesium, Mg', 'Phosphorus, P', 'Potassium, K', 'Sodium, Na',\n",
    "       'Zinc, Zn', 'Copper, Cu', 'Selenium, Se', 'Vitamin A, RAE',\n",
    "       'Vitamin E (alpha-tocopherol)', 'Vitamin D (D2 + D3)',\n",
    "       'Vitamin C, total ascorbic acid', 'Thiamin', 'Riboflavin',\n",
    "       'Niacin', 'Vitamin B-6', 'Vitamin B-12', 'Choline, total',\n",
    "       'Vitamin K (phylloquinone)', 'Cholesterol',\n",
    "       'Fatty acids, total saturated', 'Pantothenic acid',\n",
    "       'Manganese, Mn', 'Biotin'], 5)\n"
   ]
  },
  {
   "cell_type": "code",
   "execution_count": 20,
   "metadata": {},
   "outputs": [],
   "source": [
    "class SimilarRecipes:\n",
    "    \"\"\"\n",
    "    Рекомендация похожих рецептов с дополнительной информацией\n",
    "    \"\"\"\n",
    "    def __init__(self, list_of_ingredients):\n",
    "        self.list_of_ingredients = list_of_ingredients\n",
    "        self.recipes = pd.read_csv('../DS15/data/result.csv')\n",
    "        self.ingredients = list(self.recipes.drop(columns=['title', 'url','rating','rating_group']).columns)\n",
    "        \n",
    "    def find_all(self):\n",
    "        \"\"\"\n",
    "        Этот метод возвращает список индексов рецептов, которые содержат заданный список ингредиентов. \n",
    "        Если нет ни одного рецепта, содержащего все эти ингредиенты, \n",
    "        то сделайте обработку ошибки, чтобы программа не ломалась.\n",
    "        \"\"\"\n",
    "\n",
    "        if set(self.list_of_ingredients).issubset(self.recipes.columns):\n",
    "            recipes = self.recipes[self.list_of_ingredients]\n",
    "            results = recipes.sum(axis=1) == len(self.list_of_ingredients)\n",
    "            indexes = recipes.loc[results].index.tolist()\n",
    "            return indexes\n",
    "        else:\n",
    "            indexes = []\n",
    "            return indexes\n",
    "\n",
    "    \n",
    "    def top_similar(self, n):\n",
    "        \"\"\"\n",
    "        Этот метод возвращает текст, форматированный как в примере выше: с заголовком, рейтингом и URL. \n",
    "        Чтобы это сделать, он вначале находит топ-n наиболее похожих рецептов \n",
    "        с точки зрения количества дополнительных ингредиентов, \n",
    "        которые потребуются в этих рецептах. Наиболее похожим будет тот, в котором не требуется никаких других ингредиентов. \n",
    "        Далее идет тот, у которого появляется 1 доп. ингредиент. Далее – 2. \n",
    "        Если рецепт нуждается в более, чем 5 доп. ингредиентах, то такой рецепт не выводится.\n",
    "        \"\"\"\n",
    "        print(f'III. ТОП-{n} ПОХОДИХ РЕЦЕПТА \\n')\n",
    "        \n",
    "        indexes = self.find_all()\n",
    "        \n",
    "        if len(indexes) != 0:\n",
    "            final_results = []\n",
    "\n",
    "            for i in indexes:\n",
    "                if self.recipes.iloc[i].loc[self.ingredients].sum() - len(self.list_of_ingredients) < 5:\n",
    "                    if self.recipes.iloc[i].loc[self.ingredients].sum() == len(self.list_of_ingredients):\n",
    "                        final_results.append({'name':self.recipes.iloc[i].title, \n",
    "                                              'rating': self.recipes.iloc[i].rating, \n",
    "                                              'url': self.recipes.iloc[i].url})\n",
    "                    elif self.recipes.iloc[i].loc[self.ingredients].sum() - 1 == len(self.list_of_ingredients):\n",
    "                        final_results.append({'name':self.recipes.iloc[i].title, \n",
    "                                              'rating': self.recipes.iloc[i].rating, \n",
    "                                              'url': self.recipes.iloc[i].url})\n",
    "                    elif self.recipes.iloc[i].loc[self.ingredients].sum() - 2 == len(self.list_of_ingredients):\n",
    "                        final_results.append({'name':self.recipes.iloc[i].title, \n",
    "                                              'rating': self.recipes.iloc[i].rating, \n",
    "                                              'url': self.recipes.iloc[i].url})\n",
    "                    elif self.recipes.iloc[i].loc[self.ingredients].sum() - 3 == len(self.list_of_ingredients):\n",
    "                        final_results.append({'name':self.recipes.iloc[i].title, \n",
    "                                              'rating': self.recipes.iloc[i].rating, \n",
    "                                              'url': self.recipes.iloc[i].url})\n",
    "                    elif self.recipes.iloc[i].loc[self.ingredients].sum() - 4 == len(self.list_of_ingredients):\n",
    "                        final_results.append({'name':self.recipes.iloc[i].title, \n",
    "                                              'rating': self.recipes.iloc[i].rating, \n",
    "                                              'url': self.recipes.iloc[i].url})\n",
    "            for j in final_results[:n]:\n",
    "                print(j.get('name'), j.get('rating'), j.get('url'))\n",
    "\n",
    "        else:\n",
    "            print('Похожих рецептов не найдено.\\n')\n",
    "                \n"
   ]
  },
  {
   "cell_type": "code",
   "execution_count": 21,
   "metadata": {
    "scrolled": true
   },
   "outputs": [
    {
     "name": "stdout",
     "output_type": "stream",
     "text": [
      "III. ТОП-3 ПОХОДИХ РЕЦЕПТА \n",
      "\n",
      "Похожих рецептов не найдено.\n",
      "\n"
     ]
    }
   ],
   "source": [
    "SimilarRecipes(['gin', 'chile pepper']).top_similar(3)"
   ]
  },
  {
   "cell_type": "code",
   "execution_count": 102,
   "metadata": {},
   "outputs": [
    {
     "data": {
      "text/plain": [
       "4.0"
      ]
     },
     "execution_count": 102,
     "metadata": {},
     "output_type": "execute_result"
    }
   ],
   "source": [
    "recipes.iloc[915].loc[ingredients].sum()"
   ]
  },
  {
   "cell_type": "code",
   "execution_count": 152,
   "metadata": {},
   "outputs": [],
   "source": [
    "list_of_ingredients = ['zucchini', 'beef']"
   ]
  },
  {
   "cell_type": "code",
   "execution_count": 153,
   "metadata": {},
   "outputs": [
    {
     "data": {
      "text/plain": [
       "[2883, 4391, 7337]"
      ]
     },
     "execution_count": 153,
     "metadata": {},
     "output_type": "execute_result"
    }
   ],
   "source": [
    "indexes = SimilarRecipes(list_of_ingredients).find_all()\n",
    "indexes"
   ]
  },
  {
   "cell_type": "code",
   "execution_count": 154,
   "metadata": {},
   "outputs": [],
   "source": [
    "recipes = pd.read_csv('result.csv')"
   ]
  },
  {
   "cell_type": "code",
   "execution_count": 155,
   "metadata": {},
   "outputs": [],
   "source": [
    "ingredients = list(recipes.drop(columns=['title', 'url', 'rating','rating_group']).columns)"
   ]
  },
  {
   "cell_type": "code",
   "execution_count": 156,
   "metadata": {},
   "outputs": [
    {
     "name": "stdout",
     "output_type": "stream",
     "text": [
      "Skirt Steak with Poblano Rajas and Zucchini  3.125 \n"
     ]
    }
   ],
   "source": [
    "final_results = []\n",
    "\n",
    "for i in indexes:\n",
    "    if recipes.iloc[i].loc[ingredients].sum() - len(list_of_ingredients) < 5:\n",
    "        if recipes.iloc[i].loc[ingredients].sum() == len(list_of_ingredients):\n",
    "            final_results.append({'name':recipes.iloc[i].title, \n",
    "                                  'rating': recipes.iloc[i].rating, \n",
    "                                  'url': ''})\n",
    "        elif recipes.iloc[i].loc[ingredients].sum() - 1 == len(list_of_ingredients):\n",
    "            final_results.append({'name':recipes.iloc[i].title, \n",
    "                                  'rating': recipes.iloc[i].rating, \n",
    "                                  'url': ''})\n",
    "        elif recipes.iloc[i].loc[ingredients].sum() - 2 == len(list_of_ingredients):\n",
    "            final_results.append({'name':recipes.iloc[i].title, \n",
    "                                  'rating': recipes.iloc[i].rating, \n",
    "                                  'url': ''})\n",
    "        elif recipes.iloc[i].loc[ingredients].sum() - 3 == len(list_of_ingredients):\n",
    "            final_results.append({'name':recipes.iloc[i].title, \n",
    "                                  'rating': recipes.iloc[i].rating, \n",
    "                                  'url': ''})\n",
    "        elif recipes.iloc[i].loc[ingredients].sum() - 4 == len(list_of_ingredients):\n",
    "            final_results.append({'name':recipes.iloc[i].title, \n",
    "                                  'rating': recipes.iloc[i].rating, \n",
    "                                  'url': ''})\n",
    "for j in final_results[:5]:\n",
    "    print(j.get('name'), j.get('rating'), j.get('url'))"
   ]
  },
  {
   "cell_type": "code",
   "execution_count": 19,
   "metadata": {},
   "outputs": [
    {
     "name": "stdout",
     "output_type": "stream",
     "text": [
      "Введите не менее двух ингредиентов на английском языке через запятую:patato, beef\n"
     ]
    }
   ],
   "source": [
    "list_of_ingredients = input('Введите не менее двух ингредиентов на английском языке через запятую:')\n",
    "list_of_ingredients= list_of_ingredients.lower().split(',')\n",
    "list_of_ingredients = [x.strip(' ') for x in list_of_ingredients]"
   ]
  },
  {
   "cell_type": "code",
   "execution_count": 20,
   "metadata": {},
   "outputs": [
    {
     "data": {
      "text/plain": [
       "['patato', 'beef']"
      ]
     },
     "execution_count": 20,
     "metadata": {},
     "output_type": "execute_result"
    }
   ],
   "source": [
    "list_of_ingredients"
   ]
  },
  {
   "cell_type": "code",
   "execution_count": 22,
   "metadata": {},
   "outputs": [],
   "source": [
    "class Recommend_Menu():\n",
    "    \n",
    "    def __init__(self):\n",
    "        self.data= pd.read_csv('../DS15/data/result.csv')\n",
    "        self.full_recipes = pd.read_json('full_format_recipes.json', orient='columns')\n",
    "        self.full_recipes = self.full_recipes[self.full_recipes['categories'].notna()]\n",
    "        self.full_recipes = self.full_recipes.loc[self.full_recipes['title'].isin(list(self.data['title']))]\n",
    "        self.meal = [['Breakfast','ЗАВТРАК'], ['Lunch','ОБЕД'], ['Dinner','УЖИН'], ['Dessert','ДЕСЕРТ']]\n",
    "        \n",
    "    def recommend(self):\n",
    "\n",
    "        for i in self.meal:\n",
    "            print(f'{i[1]}\\n')\n",
    "            info = self.full_recipes[self.full_recipes.categories.map(set([i[0]]).issubset)].sample(n=1)\n",
    "\n",
    "            name = info.title.tolist()[0]\n",
    "\n",
    "            info_url = self.data.loc[self.data.title ==name]\n",
    "            print(F'{name} (рейтинг: {info.rating.tolist()[0]})\\n')\n",
    "            print('Ингредиенты: \\n')\n",
    "            info_ings = info_url.drop(columns=['title', 'url', 'rating','rating_group']).T\n",
    "            info_ings = info_ings.reset_index().rename(columns={'index':'ings'})\n",
    "            \n",
    "            ings = info_ings.loc[info_ings[info_ings.columns[1]] == 1].index.tolist()\n",
    "            ings = info_ings.iloc[ings]['ings'].tolist()\n",
    "\n",
    "            for j in ings:\n",
    "                print(f'-{j}')\n",
    "            print('\\n') \n",
    "            print('Nutrients: \\n')\n",
    "            print(f'- calories: {round(float(info.calories)/2500* 100, 2)} %\\n- protein: {round(float(info.protein) / 150 * 100, 2)} %\\\n",
    "            \\n- fat: {round(float(info.fat) / 178 * 100.2)} %\\n- sodium:{round(float(info.sodium) / 2300 * 100,2)} %\\n')\n",
    "            print(f'Ссылка на рецепт: {info_url.url.tolist()[0]}\\n')"
   ]
  },
  {
   "cell_type": "code",
   "execution_count": 23,
   "metadata": {},
   "outputs": [
    {
     "name": "stdout",
     "output_type": "stream",
     "text": [
      "ЗАВТРАК\n",
      "\n",
      "Black-Eyed Pea Fritters with Hot Pepper Relish  (рейтинг: 4.375)\n",
      "\n",
      "Ингредиенты: \n",
      "\n",
      "-bean\n",
      "-bell pepper\n",
      "-hot pepper\n",
      "-party\n",
      "-pea\n",
      "-pepper\n",
      "\n",
      "\n",
      "Nutrients: \n",
      "\n",
      "- calories: 2.76 %\n",
      "- protein: 0.67 %            \n",
      "- fat: 3 %\n",
      "- sodium:7.17 %\n",
      "\n",
      "Ссылка на рецепт: https://www.epicurious.com/recipes/food/views/black-eyed-pea-fritters-with-hot-pepper-relish-106044\n",
      "\n",
      "ОБЕД\n",
      "\n",
      "Smorgastarta  (рейтинг: 5.0)\n",
      "\n",
      "Ингредиенты: \n",
      "\n",
      "-chill\n",
      "-cream cheese\n",
      "-egg\n",
      "-herb\n",
      "-salmon\n",
      "\n",
      "\n",
      "Nutrients: \n",
      "\n",
      "- calories: 19.52 %\n",
      "- protein: 11.33 %            \n",
      "- fat: 20 %\n",
      "- sodium:28.57 %\n",
      "\n",
      "Ссылка на рецепт: https://www.epicurious.com/recipes/food/views/smorgastarta-14043\n",
      "\n",
      "УЖИН\n",
      "\n",
      "Veal Tournedos in Cream Sauce (Veau à la Crème)  (рейтинг: 4.375)\n",
      "\n",
      "Ингредиенты: \n",
      "\n",
      "-ham\n",
      "-swiss cheese\n",
      "-veal\n",
      "\n",
      "\n",
      "Nutrients: \n",
      "\n",
      "- calories: 28.52 %\n",
      "- protein: 40.0 %            \n",
      "- fat: 29 %\n",
      "- sodium:42.22 %\n",
      "\n",
      "Ссылка на рецепт: https://google.com/search?q=Veal%20Tournedos%20in%20Cream%20Sauce%20(Veau%20%20la%20Crme)+recipe\n",
      "\n",
      "ДЕСЕРТ\n",
      "\n",
      "Hazelnut Brittle  (рейтинг: 3.125)\n",
      "\n",
      "Ингредиенты: \n",
      "\n",
      "-candy\n",
      "-hazelnut\n",
      "-nut\n",
      "\n",
      "\n",
      "Nutrients: \n",
      "\n",
      "- calories: 9.88 %\n",
      "- protein: 1.33 %            \n",
      "- fat: 10 %\n",
      "- sodium:3.43 %\n",
      "\n",
      "Ссылка на рецепт: https://www.epicurious.com/recipes/food/views/chocolate-hazelnut-napoleons\n",
      "\n"
     ]
    }
   ],
   "source": [
    "Recommend_Menu().recommend()"
   ]
  },
  {
   "cell_type": "code",
   "execution_count": 432,
   "metadata": {},
   "outputs": [
    {
     "data": {
      "text/html": [
       "<div>\n",
       "<style scoped>\n",
       "    .dataframe tbody tr th:only-of-type {\n",
       "        vertical-align: middle;\n",
       "    }\n",
       "\n",
       "    .dataframe tbody tr th {\n",
       "        vertical-align: top;\n",
       "    }\n",
       "\n",
       "    .dataframe thead th {\n",
       "        text-align: right;\n",
       "    }\n",
       "</style>\n",
       "<table border=\"1\" class=\"dataframe\">\n",
       "  <thead>\n",
       "    <tr style=\"text-align: right;\">\n",
       "      <th></th>\n",
       "      <th>title</th>\n",
       "      <th>url</th>\n",
       "      <th>rating</th>\n",
       "      <th>almond</th>\n",
       "      <th>amaretto</th>\n",
       "      <th>anchovy</th>\n",
       "      <th>anise</th>\n",
       "      <th>apple</th>\n",
       "      <th>apple juice</th>\n",
       "      <th>apricot</th>\n",
       "      <th>...</th>\n",
       "      <th>white wine</th>\n",
       "      <th>whole wheat</th>\n",
       "      <th>wild rice</th>\n",
       "      <th>wine</th>\n",
       "      <th>wok</th>\n",
       "      <th>yellow squash</th>\n",
       "      <th>yogurt</th>\n",
       "      <th>yuca</th>\n",
       "      <th>zucchini</th>\n",
       "      <th>rating_group</th>\n",
       "    </tr>\n",
       "  </thead>\n",
       "  <tbody>\n",
       "  </tbody>\n",
       "</table>\n",
       "<p>0 rows × 342 columns</p>\n",
       "</div>"
      ],
      "text/plain": [
       "Empty DataFrame\n",
       "Columns: [title, url, rating, almond, amaretto, anchovy, anise, apple, apple juice, apricot, artichoke, arugula, asian pear, asparagus, avocado, bacon, banana, barley, basil, bass, bean, beef, beef rib, beef shank, beef tenderloin, beer, beet, bell pepper, berry, bitters, blackberry, blue cheese, blueberry, bok choy, bourbon, bran, brandy, bread, breadcrumbs, brie, brine, brisket, broccoli, broccoli rabe, brown rice, brussel sprout, buffalo, bulgur, butter, buttermilk, butternut squash, cabbage, cake, calvados, campari, candy, candy thermometer, cantaloupe, capers, caraway, cardamom, carrot, cashew, cauliflower, celery, chambord, champagne, chard, chartreuse, cheddar, cheese, cherry, chestnut, chicken, chickpea, chile, chile pepper, chili, chill, chive, chocolate, cilantro, cinnamon, citrus, clam, clove, coconut, cod, coffee, collard greens, cookies, coriander, corn, cornmeal, cottage cheese, couscous, crab, cranberry, cranberry sauce, cream cheese, ...]\n",
       "Index: []\n",
       "\n",
       "[0 rows x 342 columns]"
      ]
     },
     "execution_count": 432,
     "metadata": {},
     "output_type": "execute_result"
    }
   ],
   "source": [
    "data.loc[data.title=='Steamed Fish with Scallions and Ginger']"
   ]
  },
  {
   "cell_type": "code",
   "execution_count": 435,
   "metadata": {},
   "outputs": [
    {
     "data": {
      "text/html": [
       "<div>\n",
       "<style scoped>\n",
       "    .dataframe tbody tr th:only-of-type {\n",
       "        vertical-align: middle;\n",
       "    }\n",
       "\n",
       "    .dataframe tbody tr th {\n",
       "        vertical-align: top;\n",
       "    }\n",
       "\n",
       "    .dataframe thead th {\n",
       "        text-align: right;\n",
       "    }\n",
       "</style>\n",
       "<table border=\"1\" class=\"dataframe\">\n",
       "  <thead>\n",
       "    <tr style=\"text-align: right;\">\n",
       "      <th></th>\n",
       "      <th>directions</th>\n",
       "      <th>fat</th>\n",
       "      <th>date</th>\n",
       "      <th>categories</th>\n",
       "      <th>calories</th>\n",
       "      <th>desc</th>\n",
       "      <th>protein</th>\n",
       "      <th>rating</th>\n",
       "      <th>title</th>\n",
       "      <th>ingredients</th>\n",
       "      <th>sodium</th>\n",
       "    </tr>\n",
       "  </thead>\n",
       "  <tbody>\n",
       "    <tr>\n",
       "      <th>0</th>\n",
       "      <td>[1. Place the stock, lentils, celery, carrot, ...</td>\n",
       "      <td>7.0</td>\n",
       "      <td>2006-09-01 04:00:00+00:00</td>\n",
       "      <td>[Sandwich, Bean, Fruit, Tomato, turkey, Vegeta...</td>\n",
       "      <td>426.0</td>\n",
       "      <td>None</td>\n",
       "      <td>30.0</td>\n",
       "      <td>2.500</td>\n",
       "      <td>Lentil, Apple, and Turkey Wrap</td>\n",
       "      <td>[4 cups low-sodium vegetable or chicken stock,...</td>\n",
       "      <td>559.0</td>\n",
       "    </tr>\n",
       "    <tr>\n",
       "      <th>1</th>\n",
       "      <td>[Combine first 9 ingredients in heavy medium s...</td>\n",
       "      <td>23.0</td>\n",
       "      <td>2004-08-20 04:00:00+00:00</td>\n",
       "      <td>[Food Processor, Onion, Pork, Bake, Bastille D...</td>\n",
       "      <td>403.0</td>\n",
       "      <td>This uses the same ingredients found in boudin...</td>\n",
       "      <td>18.0</td>\n",
       "      <td>4.375</td>\n",
       "      <td>Boudin Blanc Terrine with Red Onion Confit</td>\n",
       "      <td>[1 1/2 cups whipping cream, 2 medium onions, c...</td>\n",
       "      <td>1439.0</td>\n",
       "    </tr>\n",
       "    <tr>\n",
       "      <th>2</th>\n",
       "      <td>[In a large heavy saucepan cook diced fennel a...</td>\n",
       "      <td>7.0</td>\n",
       "      <td>2004-08-20 04:00:00+00:00</td>\n",
       "      <td>[Soup/Stew, Dairy, Potato, Vegetable, Fennel, ...</td>\n",
       "      <td>165.0</td>\n",
       "      <td>None</td>\n",
       "      <td>6.0</td>\n",
       "      <td>3.750</td>\n",
       "      <td>Potato and Fennel Soup Hodge</td>\n",
       "      <td>[1 fennel bulb (sometimes called anise), stalk...</td>\n",
       "      <td>165.0</td>\n",
       "    </tr>\n",
       "    <tr>\n",
       "      <th>4</th>\n",
       "      <td>[Preheat oven to 350°F. Lightly grease 8x8x2-i...</td>\n",
       "      <td>32.0</td>\n",
       "      <td>2004-08-20 04:00:00+00:00</td>\n",
       "      <td>[Cheese, Dairy, Pasta, Vegetable, Side, Bake, ...</td>\n",
       "      <td>547.0</td>\n",
       "      <td>None</td>\n",
       "      <td>20.0</td>\n",
       "      <td>3.125</td>\n",
       "      <td>Spinach Noodle Casserole</td>\n",
       "      <td>[1 12-ounce package frozen spinach soufflé, th...</td>\n",
       "      <td>452.0</td>\n",
       "    </tr>\n",
       "    <tr>\n",
       "      <th>5</th>\n",
       "      <td>[Mix basil, mayonnaise and butter in processor...</td>\n",
       "      <td>79.0</td>\n",
       "      <td>2004-08-20 04:00:00+00:00</td>\n",
       "      <td>[Sandwich, Food Processor, Tomato, Kid-Friendl...</td>\n",
       "      <td>948.0</td>\n",
       "      <td>This recipe can be prepared in 45 minutes or l...</td>\n",
       "      <td>19.0</td>\n",
       "      <td>4.375</td>\n",
       "      <td>The Best Blts</td>\n",
       "      <td>[2 1/2 cups (lightly packed) fresh basil leave...</td>\n",
       "      <td>1042.0</td>\n",
       "    </tr>\n",
       "    <tr>\n",
       "      <th>...</th>\n",
       "      <td>...</td>\n",
       "      <td>...</td>\n",
       "      <td>...</td>\n",
       "      <td>...</td>\n",
       "      <td>...</td>\n",
       "      <td>...</td>\n",
       "      <td>...</td>\n",
       "      <td>...</td>\n",
       "      <td>...</td>\n",
       "      <td>...</td>\n",
       "      <td>...</td>\n",
       "    </tr>\n",
       "    <tr>\n",
       "      <th>20125</th>\n",
       "      <td>[Beat whites in a bowl with an electric mixer ...</td>\n",
       "      <td>2.0</td>\n",
       "      <td>2004-08-20 04:00:00+00:00</td>\n",
       "      <td>[Mixer, Cheese, Egg, Fry, Cocktail Party, Parm...</td>\n",
       "      <td>28.0</td>\n",
       "      <td>None</td>\n",
       "      <td>2.0</td>\n",
       "      <td>3.125</td>\n",
       "      <td>Parmesan Puffs</td>\n",
       "      <td>[2 large egg whites, 3 oz Parmigiano-Reggiano,...</td>\n",
       "      <td>64.0</td>\n",
       "    </tr>\n",
       "    <tr>\n",
       "      <th>20126</th>\n",
       "      <td>[Bring broth to simmer in saucepan.Remove from...</td>\n",
       "      <td>28.0</td>\n",
       "      <td>2008-02-28 22:06:54+00:00</td>\n",
       "      <td>[Side, Kid-Friendly, High Fiber, Dinner, Parme...</td>\n",
       "      <td>671.0</td>\n",
       "      <td>Cooking the artichokes with the rice infuses t...</td>\n",
       "      <td>22.0</td>\n",
       "      <td>4.375</td>\n",
       "      <td>Artichoke and Parmesan Risotto</td>\n",
       "      <td>[5 1/2 cups (or more) low-salt chicken broth, ...</td>\n",
       "      <td>583.0</td>\n",
       "    </tr>\n",
       "    <tr>\n",
       "      <th>20127</th>\n",
       "      <td>[Using a sharp knife, cut a shallow X in botto...</td>\n",
       "      <td>38.0</td>\n",
       "      <td>2005-10-21 18:21:20+00:00</td>\n",
       "      <td>[Onion, Poultry, turkey, Vegetable, Bake, Kid-...</td>\n",
       "      <td>563.0</td>\n",
       "      <td>None</td>\n",
       "      <td>31.0</td>\n",
       "      <td>4.375</td>\n",
       "      <td>Turkey Cream Puff Pie</td>\n",
       "      <td>[1 small tomato, 1 small onion, finely chopped...</td>\n",
       "      <td>652.0</td>\n",
       "    </tr>\n",
       "    <tr>\n",
       "      <th>20128</th>\n",
       "      <td>[Heat 2 tablespoons oil in heavy medium skille...</td>\n",
       "      <td>24.0</td>\n",
       "      <td>2004-08-20 04:00:00+00:00</td>\n",
       "      <td>[Milk/Cream, Citrus, Dairy, Fish, Garlic, Past...</td>\n",
       "      <td>631.0</td>\n",
       "      <td>Sharon Hooykaas of Los Alamitos, California, w...</td>\n",
       "      <td>45.0</td>\n",
       "      <td>4.375</td>\n",
       "      <td>Snapper on Angel Hair with Citrus Cream</td>\n",
       "      <td>[4 tablespoons olive oil, 4 shallots, thinly s...</td>\n",
       "      <td>517.0</td>\n",
       "    </tr>\n",
       "    <tr>\n",
       "      <th>20129</th>\n",
       "      <td>[Position rack in bottom third of oven and pre...</td>\n",
       "      <td>10.0</td>\n",
       "      <td>2004-08-20 04:00:00+00:00</td>\n",
       "      <td>[Pork, Bake, Roast, Christmas, Ham, Winter, Bo...</td>\n",
       "      <td>560.0</td>\n",
       "      <td>Although labeled fully cooked, the ham will st...</td>\n",
       "      <td>73.0</td>\n",
       "      <td>4.375</td>\n",
       "      <td>Baked Ham with Marmalade-Horseradish Glaze</td>\n",
       "      <td>[1 18-pound fully cooked bone-in smoked ham, r...</td>\n",
       "      <td>3698.0</td>\n",
       "    </tr>\n",
       "  </tbody>\n",
       "</table>\n",
       "<p>15888 rows × 11 columns</p>\n",
       "</div>"
      ],
      "text/plain": [
       "                                              directions   fat  \\\n",
       "0      [1. Place the stock, lentils, celery, carrot, ...   7.0   \n",
       "1      [Combine first 9 ingredients in heavy medium s...  23.0   \n",
       "2      [In a large heavy saucepan cook diced fennel a...   7.0   \n",
       "4      [Preheat oven to 350°F. Lightly grease 8x8x2-i...  32.0   \n",
       "5      [Mix basil, mayonnaise and butter in processor...  79.0   \n",
       "...                                                  ...   ...   \n",
       "20125  [Beat whites in a bowl with an electric mixer ...   2.0   \n",
       "20126  [Bring broth to simmer in saucepan.Remove from...  28.0   \n",
       "20127  [Using a sharp knife, cut a shallow X in botto...  38.0   \n",
       "20128  [Heat 2 tablespoons oil in heavy medium skille...  24.0   \n",
       "20129  [Position rack in bottom third of oven and pre...  10.0   \n",
       "\n",
       "                           date  \\\n",
       "0     2006-09-01 04:00:00+00:00   \n",
       "1     2004-08-20 04:00:00+00:00   \n",
       "2     2004-08-20 04:00:00+00:00   \n",
       "4     2004-08-20 04:00:00+00:00   \n",
       "5     2004-08-20 04:00:00+00:00   \n",
       "...                         ...   \n",
       "20125 2004-08-20 04:00:00+00:00   \n",
       "20126 2008-02-28 22:06:54+00:00   \n",
       "20127 2005-10-21 18:21:20+00:00   \n",
       "20128 2004-08-20 04:00:00+00:00   \n",
       "20129 2004-08-20 04:00:00+00:00   \n",
       "\n",
       "                                              categories  calories  \\\n",
       "0      [Sandwich, Bean, Fruit, Tomato, turkey, Vegeta...     426.0   \n",
       "1      [Food Processor, Onion, Pork, Bake, Bastille D...     403.0   \n",
       "2      [Soup/Stew, Dairy, Potato, Vegetable, Fennel, ...     165.0   \n",
       "4      [Cheese, Dairy, Pasta, Vegetable, Side, Bake, ...     547.0   \n",
       "5      [Sandwich, Food Processor, Tomato, Kid-Friendl...     948.0   \n",
       "...                                                  ...       ...   \n",
       "20125  [Mixer, Cheese, Egg, Fry, Cocktail Party, Parm...      28.0   \n",
       "20126  [Side, Kid-Friendly, High Fiber, Dinner, Parme...     671.0   \n",
       "20127  [Onion, Poultry, turkey, Vegetable, Bake, Kid-...     563.0   \n",
       "20128  [Milk/Cream, Citrus, Dairy, Fish, Garlic, Past...     631.0   \n",
       "20129  [Pork, Bake, Roast, Christmas, Ham, Winter, Bo...     560.0   \n",
       "\n",
       "                                                    desc  protein  rating  \\\n",
       "0                                                   None     30.0   2.500   \n",
       "1      This uses the same ingredients found in boudin...     18.0   4.375   \n",
       "2                                                   None      6.0   3.750   \n",
       "4                                                   None     20.0   3.125   \n",
       "5      This recipe can be prepared in 45 minutes or l...     19.0   4.375   \n",
       "...                                                  ...      ...     ...   \n",
       "20125                                               None      2.0   3.125   \n",
       "20126  Cooking the artichokes with the rice infuses t...     22.0   4.375   \n",
       "20127                                               None     31.0   4.375   \n",
       "20128  Sharon Hooykaas of Los Alamitos, California, w...     45.0   4.375   \n",
       "20129  Although labeled fully cooked, the ham will st...     73.0   4.375   \n",
       "\n",
       "                                             title  \\\n",
       "0                  Lentil, Apple, and Turkey Wrap    \n",
       "1      Boudin Blanc Terrine with Red Onion Confit    \n",
       "2                    Potato and Fennel Soup Hodge    \n",
       "4                        Spinach Noodle Casserole    \n",
       "5                                   The Best Blts    \n",
       "...                                            ...   \n",
       "20125                              Parmesan Puffs    \n",
       "20126              Artichoke and Parmesan Risotto    \n",
       "20127                       Turkey Cream Puff Pie    \n",
       "20128     Snapper on Angel Hair with Citrus Cream    \n",
       "20129  Baked Ham with Marmalade-Horseradish Glaze    \n",
       "\n",
       "                                             ingredients  sodium  \n",
       "0      [4 cups low-sodium vegetable or chicken stock,...   559.0  \n",
       "1      [1 1/2 cups whipping cream, 2 medium onions, c...  1439.0  \n",
       "2      [1 fennel bulb (sometimes called anise), stalk...   165.0  \n",
       "4      [1 12-ounce package frozen spinach soufflé, th...   452.0  \n",
       "5      [2 1/2 cups (lightly packed) fresh basil leave...  1042.0  \n",
       "...                                                  ...     ...  \n",
       "20125  [2 large egg whites, 3 oz Parmigiano-Reggiano,...    64.0  \n",
       "20126  [5 1/2 cups (or more) low-salt chicken broth, ...   583.0  \n",
       "20127  [1 small tomato, 1 small onion, finely chopped...   652.0  \n",
       "20128  [4 tablespoons olive oil, 4 shallots, thinly s...   517.0  \n",
       "20129  [1 18-pound fully cooked bone-in smoked ham, r...  3698.0  \n",
       "\n",
       "[15888 rows x 11 columns]"
      ]
     },
     "execution_count": 435,
     "metadata": {},
     "output_type": "execute_result"
    }
   ],
   "source": [
    "full_recipes.loc[full_recipes['title'].isin(list(data['title']))]"
   ]
  },
  {
   "cell_type": "code",
   "execution_count": 219,
   "metadata": {},
   "outputs": [],
   "source": [
    "data= pd.read_csv('result.csv')\n",
    "full_recipes = pd.read_json('full_format_recipes.json', orient='columns')\n",
    "full_recipes = full_recipes[full_recipes['categories'].notna()]"
   ]
  },
  {
   "cell_type": "code",
   "execution_count": 385,
   "metadata": {},
   "outputs": [],
   "source": [
    "breakfast = full_recipes[full_recipes.categories.map(set(['Breakfast']).issubset)].sample(n=1)\n",
    "lunch = full_recipes[full_recipes.categories.map(set(['Lunch']).issubset)].sample(n=1)\n",
    "dinner = full_recipes[full_recipes.categories.map(set(['Dinner']).issubset)].sample(n=1)\n",
    "dessert = full_recipes[full_recipes.categories.map(set(['Dessert']).issubset)].sample(n=1)"
   ]
  },
  {
   "cell_type": "code",
   "execution_count": 386,
   "metadata": {
    "scrolled": true
   },
   "outputs": [
    {
     "data": {
      "text/html": [
       "<div>\n",
       "<style scoped>\n",
       "    .dataframe tbody tr th:only-of-type {\n",
       "        vertical-align: middle;\n",
       "    }\n",
       "\n",
       "    .dataframe tbody tr th {\n",
       "        vertical-align: top;\n",
       "    }\n",
       "\n",
       "    .dataframe thead th {\n",
       "        text-align: right;\n",
       "    }\n",
       "</style>\n",
       "<table border=\"1\" class=\"dataframe\">\n",
       "  <thead>\n",
       "    <tr style=\"text-align: right;\">\n",
       "      <th></th>\n",
       "      <th>directions</th>\n",
       "      <th>fat</th>\n",
       "      <th>date</th>\n",
       "      <th>categories</th>\n",
       "      <th>calories</th>\n",
       "      <th>desc</th>\n",
       "      <th>protein</th>\n",
       "      <th>rating</th>\n",
       "      <th>title</th>\n",
       "      <th>ingredients</th>\n",
       "      <th>sodium</th>\n",
       "    </tr>\n",
       "  </thead>\n",
       "  <tbody>\n",
       "    <tr>\n",
       "      <th>12147</th>\n",
       "      <td>[Preheat oven to 350°F., In a large bowl, comb...</td>\n",
       "      <td>30.0</td>\n",
       "      <td>2014-08-12 04:00:00+00:00</td>\n",
       "      <td>[Breakfast, Cherry, Coconut, Oat, Honey, Granola]</td>\n",
       "      <td>530.0</td>\n",
       "      <td>None</td>\n",
       "      <td>10.0</td>\n",
       "      <td>5.0</td>\n",
       "      <td>Cherry and Coconut Granola with Yogurt</td>\n",
       "      <td>[3 cups rolled oats, 1 cup chopped almonds, 3/...</td>\n",
       "      <td>201.0</td>\n",
       "    </tr>\n",
       "  </tbody>\n",
       "</table>\n",
       "</div>"
      ],
      "text/plain": [
       "                                              directions   fat  \\\n",
       "12147  [Preheat oven to 350°F., In a large bowl, comb...  30.0   \n",
       "\n",
       "                           date  \\\n",
       "12147 2014-08-12 04:00:00+00:00   \n",
       "\n",
       "                                              categories  calories  desc  \\\n",
       "12147  [Breakfast, Cherry, Coconut, Oat, Honey, Granola]     530.0  None   \n",
       "\n",
       "       protein  rating                                    title  \\\n",
       "12147     10.0     5.0  Cherry and Coconut Granola with Yogurt    \n",
       "\n",
       "                                             ingredients  sodium  \n",
       "12147  [3 cups rolled oats, 1 cup chopped almonds, 3/...   201.0  "
      ]
     },
     "execution_count": 386,
     "metadata": {},
     "output_type": "execute_result"
    }
   ],
   "source": [
    "breakfast"
   ]
  },
  {
   "cell_type": "code",
   "execution_count": 387,
   "metadata": {},
   "outputs": [
    {
     "data": {
      "text/plain": [
       "'Cherry and Coconut Granola with Yogurt '"
      ]
     },
     "execution_count": 387,
     "metadata": {},
     "output_type": "execute_result"
    }
   ],
   "source": [
    "breakfast_name = breakfast.title.tolist()[0]\n",
    "breakfast_name"
   ]
  },
  {
   "cell_type": "code",
   "execution_count": 427,
   "metadata": {
    "scrolled": true
   },
   "outputs": [],
   "source": [
    "# if breakfast_name in data.title:\n",
    "info_url = data.loc[data.title ==breakfast_name]"
   ]
  },
  {
   "cell_type": "code",
   "execution_count": 428,
   "metadata": {},
   "outputs": [],
   "source": [
    "info_ings = info_url.drop(columns=['title', 'url', 'rating','rating_group']).T\n",
    "info_ings = info_ings.reset_index().rename(columns={'index':'ings'})\n",
    "\n",
    "ings = info_ings.loc[info_ings[info_ings.columns[1]] == 1].index.tolist()\n",
    "ings = info_ings.iloc[ings]['ings'].tolist()"
   ]
  },
  {
   "cell_type": "code",
   "execution_count": 429,
   "metadata": {},
   "outputs": [
    {
     "data": {
      "text/plain": [
       "['cherry', 'coconut', 'honey', 'oat']"
      ]
     },
     "execution_count": 429,
     "metadata": {},
     "output_type": "execute_result"
    }
   ],
   "source": [
    "ings"
   ]
  },
  {
   "cell_type": "code",
   "execution_count": null,
   "metadata": {},
   "outputs": [],
   "source": []
  },
  {
   "cell_type": "code",
   "execution_count": 393,
   "metadata": {},
   "outputs": [],
   "source": [
    "breakfast_2=breakfast_2.drop(columns=['title', 'url', 'rating','rating_group']).T"
   ]
  },
  {
   "cell_type": "code",
   "execution_count": 417,
   "metadata": {},
   "outputs": [],
   "source": [
    "breakfast_2 = breakfast_2.reset_index().rename(columns={'index':'ings'})"
   ]
  },
  {
   "cell_type": "code",
   "execution_count": 420,
   "metadata": {},
   "outputs": [],
   "source": [
    "ings = breakfast_2.loc[breakfast_2[breakfast_2.columns[1]] == 1].index.tolist()"
   ]
  },
  {
   "cell_type": "code",
   "execution_count": 424,
   "metadata": {},
   "outputs": [
    {
     "data": {
      "text/plain": [
       "['cherry', 'coconut', 'honey', 'oat']"
      ]
     },
     "execution_count": 424,
     "metadata": {},
     "output_type": "execute_result"
    }
   ],
   "source": [
    "breakfast_2.iloc[ings]['ings'].tolist()"
   ]
  },
  {
   "cell_type": "code",
   "execution_count": 376,
   "metadata": {},
   "outputs": [
    {
     "name": "stdout",
     "output_type": "stream",
     "text": [
      "ЗАВТРАК\n",
      "\n",
      "Cranberry-Orange Scones  (рейтинг: 5.0)\n",
      "\n",
      "Ингредиенты: \n",
      "\n",
      "-bread\n",
      "-citrus\n",
      "-cranberry\n",
      "-orange\n",
      "\n",
      "\n",
      "Nutrients: \n",
      "\n",
      "- calories: 16.16 %\n",
      "- protein: 4.0 %    \n",
      "- fat: 10 %\n",
      "- sodium:23.7 %\n",
      "\n",
      "Ссылка на рецепт: https://www.epicurious.com/recipes/food/views/cranberry-orange-scones-15682\n",
      "\n",
      "ОБЕД\n",
      "\n",
      "Butternut Squash Soup with Pumpkin Butter  (рейтинг: 3.75)\n",
      "\n",
      "Ингредиенты: \n",
      "\n",
      "-butternut squash\n",
      "-pistachio\n",
      "-pumpkin\n",
      "-squash\n",
      "\n",
      "\n",
      "Nutrients: \n",
      "\n",
      "- calories: 20.68 %\n",
      "- protein: 3.33 %    \n",
      "- fat: 27 %\n",
      "- sodium:2.57 %\n",
      "\n",
      "Ссылка на рецепт: https://www.epicurious.com/recipes/food/views/butternut-squash-soup-with-pumpkin-butter-51122000\n",
      "\n",
      "УЖИН\n",
      "\n",
      "Orecchiette with Fresh Mozzarella, Grape Tomatoes, and Garlic Chives  (рейтинг: 2.5)\n",
      "\n",
      "Ингредиенты: \n",
      "\n",
      "-cheese\n",
      "-garlic\n",
      "-mozzarella\n",
      "-party\n",
      "-pasta\n",
      "-tomato\n",
      "-vegetable\n",
      "\n",
      "\n",
      "Nutrients: \n",
      "\n",
      "- calories: 32.72 %\n",
      "- protein: 24.0 %    \n",
      "- fat: 26 %\n",
      "- sodium:31.52 %\n",
      "\n",
      "Ссылка на рецепт: https://www.epicurious.com/recipes/food/views/orecchiette-with-fresh-mozzarella-grape-tomatoes-and-garlic-chives-354335\n",
      "\n",
      "ДЕСЕРТ\n",
      "\n",
      "Chocolate Raspberry Sauce  (рейтинг: 5.0)\n",
      "\n",
      "Ингредиенты: \n",
      "\n",
      "-chocolate\n",
      "-raspberry\n",
      "-sauce\n",
      "\n",
      "\n",
      "Nutrients: \n",
      "\n",
      "- calories: 19.8 %\n",
      "- protein: 2.67 %    \n",
      "- fat: 19 %\n",
      "- sodium:1.43 %\n",
      "\n",
      "Ссылка на рецепт: https://www.epicurious.com/recipes/food/views/raspberry-sundaes-with-chocolate-sauce-and-roasted-almonds-51244810\n",
      "\n"
     ]
    }
   ],
   "source": [
    "meal = [['Breakfast','ЗАВТРАК'], ['Lunch','ОБЕД'], ['Dinner','УЖИН'], ['Dessert','ДЕСЕРТ']]\n",
    "\n",
    "for i in meal:\n",
    "    print(f'{i[1]}\\n')\n",
    "    info = full_recipes[full_recipes.categories.map(set([i[0]]).issubset)].sample(n=1)\n",
    "    \n",
    "    name = info.title.tolist()[0]\n",
    "\n",
    "    info_url = data.loc[data.title ==name]\n",
    "    print(F'{name} (рейтинг: {info.rating.tolist()[0]})\\n')\n",
    "    print('Ингредиенты: \\n')\n",
    "    info_ings = info_url.drop(columns=['title', 'url', 'rating','rating_group']).T\n",
    "    ings = info_ings .loc[info_ings[info_ings.columns[0]] == 1].index.tolist()\n",
    "    \n",
    "    for j in ings:\n",
    "        print(f'-{j}')\n",
    "    print('\\n')\n",
    "\n",
    "    print('Nutrients: \\n')\n",
    "    print(f'- calories: {round(float(info.calories)/2500* 100, 2)} %\\n- protein: {round(float(info.protein) / 150 * 100, 2)} %\\\n",
    "    \\n- fat: {round(float(info.fat) / 178 * 100.2)} %\\n- sodium:{round(float(info.sodium) / 2300 * 100,2)} %\\n')\n",
    "    print(f'Ссылка на рецепт: {info_url.url.tolist()[0]}\\n')\n"
   ]
  },
  {
   "cell_type": "code",
   "execution_count": 369,
   "metadata": {},
   "outputs": [
    {
     "name": "stdout",
     "output_type": "stream",
     "text": [
      "Nutrients: \n",
      "\n",
      "- 12.2 %\n",
      "- 2.67 %\n",
      "- 8 %\n",
      "- 8.26 %\n"
     ]
    }
   ],
   "source": [
    "print('Nutrients: \\n')\n",
    "print(f'- {round(float(breakfast.calories)/2500* 100, 2)} %\\n- {round(float(breakfast.protein) / 150 * 100, 2)} %\\\n",
    "\\n- {round(float(breakfast.fat) / 178 * 100.2)} %\\n- {round(float(breakfast.sodium) / 2300 * 100,2)} %')\n"
   ]
  },
  {
   "cell_type": "code",
   "execution_count": 25,
   "metadata": {},
   "outputs": [
    {
     "name": "stdout",
     "output_type": "stream",
     "text": [
      "Введите не менее двух ингредиентов на английском языке через запятую:bread, avocado, cheese, garlic\n"
     ]
    }
   ],
   "source": [
    "list_of_ingredients = input('Введите не менее двух ингредиентов на английском языке через запятую:')\n",
    "list_of_ingredients= list_of_ingredients.lower().split(',')\n",
    "list_of_ingredients = [i.strip(' ') for i in list_of_ingredients]"
   ]
  },
  {
   "cell_type": "code",
   "execution_count": 27,
   "metadata": {},
   "outputs": [],
   "source": [
    "df = pd.read_csv('../DS15/data/result.csv')\n",
    "ing  = df.drop(columns=['title','url', 'rating', 'rating_group'])\n",
    "\n",
    "\n",
    "if len(list_of_ingredients) < 2:\n",
    "    print('Пожалуйста, введите не менее двух ингредиентов')\n",
    "else:\n",
    "    a = 1\n",
    "    for i in list_of_ingredients:\n",
    "        if i not in list(ing):\n",
    "            print('Данный ингредиент не найден:', i)\n",
    "            list_of_ingredients.remove(i)\n",
    "        else:\n",
    "            a += 1\n",
    "    if a < len(list_of_ingredients):\n",
    "        print('Добавьте новый ингредиент')\n",
    "      "
   ]
  },
  {
   "cell_type": "code",
   "execution_count": 29,
   "metadata": {},
   "outputs": [
    {
     "name": "stdout",
     "output_type": "stream",
     "text": [
      "I. НАШ ПРОГНОЗ:\n",
      "\n",
      "Вкусное. На наш скромный взгляд из этих ингредиентов получится изысканное блюдо.\n",
      "\n",
      "\n",
      "II. ПИЩЕВАЯ ЦЕННОСТЬ \n",
      "\n",
      "Bread\n",
      "Protein - 5.0 % of daily value\n",
      "Total lipid (fat) - 0.0 % of daily value\n",
      "Calcium, Ca - 0.0 % of daily value\n",
      "Sodium, Na - 24.0 % of daily value\n",
      "Нутриент Vitamin C для данного ингредиента не найден\n",
      "Cholesterol - 0.0 % of daily value\n",
      "\n",
      "\n",
      "Avocado\n",
      "Protein - 1.0 % of daily value\n",
      "Total lipid (fat) - 24.0 % of daily value\n",
      "Calcium, Ca - 3.0 % of daily value\n",
      "Sodium, Na - 38.0 % of daily value\n",
      "Нутриент Vitamin C для данного ингредиента не найден\n",
      "Cholesterol - 13.0 % of daily value\n",
      "\n",
      "\n",
      "Cheese\n",
      "Protein - 14.0 % of daily value\n",
      "Total lipid (fat) - 14.0 % of daily value\n",
      "Calcium, Ca - 0.0 % of daily value\n",
      "Sodium, Na - 26.0 % of daily value\n",
      "Нутриент Vitamin C для данного ингредиента не найден\n",
      "Cholesterol - 18.0 % of daily value\n",
      "\n",
      "\n",
      "Garlic\n",
      "Protein - 0.0 % of daily value\n",
      "Total lipid (fat) - 0.0 % of daily value\n",
      "Calcium, Ca - 51.0 % of daily value\n",
      "Sodium, Na - 0.0 % of daily value\n",
      "Нутриент Vitamin C для данного ингредиента не найден\n",
      "Нутриент Cholesterol для данного ингредиента не найден\n",
      "\n",
      "\n",
      "None\n",
      "III. ТОП-3 ПОХОДИХ РЕЦЕПТА \n",
      "\n",
      "Похожих рецептов не найдено.\n",
      "\n",
      "None\n"
     ]
    }
   ],
   "source": [
    "print(Forecast(list_of_ingredients).predict_rating_category())\n",
    "print('\\n')\n",
    "print(NutritionFacts(list_of_ingredients).filter(['Protein', 'Total lipid (fat)', 'Calcium, Ca', 'Sodium, Na','Vitamin C','Cholesterol'],6))\n",
    "print(SimilarRecipes(list_of_ingredients).top_similar(3))\n"
   ]
  },
  {
   "cell_type": "code",
   "execution_count": 30,
   "metadata": {},
   "outputs": [
    {
     "name": "stdout",
     "output_type": "stream",
     "text": [
      "ЗАВТРАК\n",
      "\n",
      "Pancakes with Warm Maple Syrup & Coffee Butter  (рейтинг: 3.75)\n",
      "\n",
      "Ингредиенты: \n",
      "\n",
      "-butter\n",
      "-coffee\n",
      "\n",
      "\n",
      "Nutrients: \n",
      "\n",
      "- calories: 9.6 %\n",
      "- protein: 4.0 %            \n",
      "- fat: 8 %\n",
      "- sodium:16.43 %\n",
      "\n",
      "Ссылка на рецепт: https://www.epicurious.com/recipes/food/views/pancakes-with-warm-maple-syrup-coffee-butter-51190420\n",
      "\n",
      "ОБЕД\n",
      "\n",
      "Cavatelli Salad with Artichokes and Goat Cheese  (рейтинг: 3.75)\n",
      "\n",
      "Ингредиенты: \n",
      "\n",
      "-artichoke\n",
      "-basil\n",
      "-chill\n",
      "-goat cheese\n",
      "-pasta\n",
      "-tomato\n",
      "\n",
      "\n",
      "Nutrients: \n",
      "\n",
      "- calories: 19.48 %\n",
      "- protein: 9.33 %            \n",
      "- fat: 15 %\n",
      "- sodium:6.43 %\n",
      "\n",
      "Ссылка на рецепт: https://www.epicurious.com/recipes/food/views/cavatelli-salad-with-artichokes-and-goat-cheese-106939\n",
      "\n",
      "УЖИН\n",
      "\n",
      "Sweet-and-Sour Balsamic-Glazed Spareribs  (рейтинг: 4.375)\n",
      "\n",
      "Ингредиенты: \n",
      "\n",
      "-meat\n",
      "-pork\n",
      "-pork rib\n",
      "-vinegar\n",
      "\n",
      "\n",
      "Nutrients: \n",
      "\n",
      "- calories: 93.64 %\n",
      "- protein: 69.33 %            \n",
      "- fat: 86 %\n",
      "- sodium:82.35 %\n",
      "\n",
      "Ссылка на рецепт: https://www.epicurious.com/recipes/food/views/sweet-and-sour-balsamic-glazed-spareribs-51129400\n",
      "\n",
      "ДЕСЕРТ\n",
      "\n",
      "Campari Affogato With Lemon Sorbet  (рейтинг: 0.0)\n",
      "\n",
      "Ингредиенты: \n",
      "\n",
      "-campari\n",
      "-lemon\n",
      "-liqueur\n",
      "-orange\n",
      "-sorbet\n",
      "\n",
      "\n",
      "Nutrients: \n",
      "\n",
      "- calories: 7.12 %\n",
      "- protein: 0.0 %            \n",
      "- fat: 0 %\n",
      "- sodium:0.26 %\n",
      "\n",
      "Ссылка на рецепт: https://www.epicurious.com/recipes/food/views/campari-affogato-with-lemon-sorbet\n",
      "\n",
      "None\n"
     ]
    }
   ],
   "source": [
    "print(Recommend_Menu().recommend())"
   ]
  },
  {
   "cell_type": "code",
   "execution_count": null,
   "metadata": {},
   "outputs": [],
   "source": []
  }
 ],
 "metadata": {
  "kernelspec": {
   "display_name": "Python 3 (ipykernel)",
   "language": "python",
   "name": "python3"
  },
  "language_info": {
   "codemirror_mode": {
    "name": "ipython",
    "version": 3
   },
   "file_extension": ".py",
   "mimetype": "text/x-python",
   "name": "python",
   "nbconvert_exporter": "python",
   "pygments_lexer": "ipython3",
   "version": "3.9.12"
  },
  "toc": {
   "base_numbering": 1,
   "nav_menu": {},
   "number_sections": true,
   "sideBar": true,
   "skip_h1_title": false,
   "title_cell": "Table of Contents",
   "title_sidebar": "Contents",
   "toc_cell": true,
   "toc_position": {},
   "toc_section_display": true,
   "toc_window_display": false
  }
 },
 "nbformat": 4,
 "nbformat_minor": 4
}
